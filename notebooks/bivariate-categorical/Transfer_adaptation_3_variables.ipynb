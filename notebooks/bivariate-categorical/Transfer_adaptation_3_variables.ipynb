{
 "cells": [
  {
   "cell_type": "code",
   "execution_count": 1,
   "metadata": {},
   "outputs": [],
   "source": [
    "import sys\n",
    "sys.path.insert(0, '../..')"
   ]
  },
  {
   "cell_type": "code",
   "execution_count": 2,
   "metadata": {},
   "outputs": [],
   "source": [
    "%matplotlib inline\n",
    "import numpy as np\n",
    "import torch\n",
    "import matplotlib.pyplot as plt\n",
    "from tqdm import tnrange, tqdm_notebook\n",
    "\n",
    "from causal_meta.utils.data_utils import generate_data_categorical_3_variables, generate_data_categorical_3_variables_dependency\n",
    "from causal_meta.bivariate.categorical1 import StructuralModel, StructuralModel_1"
   ]
  },
  {
   "cell_type": "code",
   "execution_count": 3,
   "metadata": {},
   "outputs": [],
   "source": [
    "N = 10\n",
    "model = StructuralModel(N)#, dtype=torch.float64)"
   ]
  },
  {
   "cell_type": "code",
   "execution_count": 4,
   "metadata": {},
   "outputs": [],
   "source": [
    "num_episodes = 500\n",
    "batch_size = 100 # 1\n",
    "num_test = 10000\n",
    "num_training = 10 # 100\n",
    "num_transfers = 10 # 100"
   ]
  },
  {
   "cell_type": "code",
   "execution_count": 5,
   "metadata": {},
   "outputs": [],
   "source": [
    "optimizer = torch.optim.SGD(model.modules_parameters(), lr=1.)"
   ]
  },
  {
   "cell_type": "code",
   "execution_count": 6,
   "metadata": {},
   "outputs": [
    {
     "name": "stderr",
     "output_type": "stream",
     "text": [
      "<ipython-input-6-9c2eebaae7fb>:3: TqdmDeprecationWarning: Please use `tqdm.notebook.trange` instead of `tqdm.tnrange`\n",
      "  for k in tnrange(num_training):\n"
     ]
    },
    {
     "data": {
      "application/vnd.jupyter.widget-view+json": {
       "model_id": "5f6830414aad45df83289c8ee8eca19d",
       "version_major": 2,
       "version_minor": 0
      },
      "text/plain": [
       "HBox(children=(HTML(value=''), FloatProgress(value=0.0, max=10.0), HTML(value='')))"
      ]
     },
     "metadata": {},
     "output_type": "display_data"
    },
    {
     "name": "stderr",
     "output_type": "stream",
     "text": [
      "<ipython-input-6-9c2eebaae7fb>:12: TqdmDeprecationWarning: Please use `tqdm.notebook.trange` instead of `tqdm.tnrange`\n",
      "  for j in tnrange(num_transfers, leave=False):\n"
     ]
    },
    {
     "data": {
      "application/vnd.jupyter.widget-view+json": {
       "model_id": "",
       "version_major": 2,
       "version_minor": 0
      },
      "text/plain": [
       "HBox(children=(HTML(value=''), FloatProgress(value=0.0, max=10.0), HTML(value='')))"
      ]
     },
     "metadata": {},
     "output_type": "display_data"
    },
    {
     "data": {
      "application/vnd.jupyter.widget-view+json": {
       "model_id": "",
       "version_major": 2,
       "version_minor": 0
      },
      "text/plain": [
       "HBox(children=(HTML(value=''), FloatProgress(value=0.0, max=10.0), HTML(value='')))"
      ]
     },
     "metadata": {},
     "output_type": "display_data"
    },
    {
     "data": {
      "application/vnd.jupyter.widget-view+json": {
       "model_id": "",
       "version_major": 2,
       "version_minor": 0
      },
      "text/plain": [
       "HBox(children=(HTML(value=''), FloatProgress(value=0.0, max=10.0), HTML(value='')))"
      ]
     },
     "metadata": {},
     "output_type": "display_data"
    },
    {
     "data": {
      "application/vnd.jupyter.widget-view+json": {
       "model_id": "",
       "version_major": 2,
       "version_minor": 0
      },
      "text/plain": [
       "HBox(children=(HTML(value=''), FloatProgress(value=0.0, max=10.0), HTML(value='')))"
      ]
     },
     "metadata": {},
     "output_type": "display_data"
    },
    {
     "data": {
      "application/vnd.jupyter.widget-view+json": {
       "model_id": "",
       "version_major": 2,
       "version_minor": 0
      },
      "text/plain": [
       "HBox(children=(HTML(value=''), FloatProgress(value=0.0, max=10.0), HTML(value='')))"
      ]
     },
     "metadata": {},
     "output_type": "display_data"
    },
    {
     "data": {
      "application/vnd.jupyter.widget-view+json": {
       "model_id": "",
       "version_major": 2,
       "version_minor": 0
      },
      "text/plain": [
       "HBox(children=(HTML(value=''), FloatProgress(value=0.0, max=10.0), HTML(value='')))"
      ]
     },
     "metadata": {},
     "output_type": "display_data"
    },
    {
     "data": {
      "application/vnd.jupyter.widget-view+json": {
       "model_id": "",
       "version_major": 2,
       "version_minor": 0
      },
      "text/plain": [
       "HBox(children=(HTML(value=''), FloatProgress(value=0.0, max=10.0), HTML(value='')))"
      ]
     },
     "metadata": {},
     "output_type": "display_data"
    },
    {
     "data": {
      "application/vnd.jupyter.widget-view+json": {
       "model_id": "",
       "version_major": 2,
       "version_minor": 0
      },
      "text/plain": [
       "HBox(children=(HTML(value=''), FloatProgress(value=0.0, max=10.0), HTML(value='')))"
      ]
     },
     "metadata": {},
     "output_type": "display_data"
    },
    {
     "data": {
      "application/vnd.jupyter.widget-view+json": {
       "model_id": "",
       "version_major": 2,
       "version_minor": 0
      },
      "text/plain": [
       "HBox(children=(HTML(value=''), FloatProgress(value=0.0, max=10.0), HTML(value='')))"
      ]
     },
     "metadata": {},
     "output_type": "display_data"
    },
    {
     "data": {
      "application/vnd.jupyter.widget-view+json": {
       "model_id": "",
       "version_major": 2,
       "version_minor": 0
      },
      "text/plain": [
       "HBox(children=(HTML(value=''), FloatProgress(value=0.0, max=10.0), HTML(value='')))"
      ]
     },
     "metadata": {},
     "output_type": "display_data"
    },
    {
     "name": "stdout",
     "output_type": "stream",
     "text": [
      "\n"
     ]
    }
   ],
   "source": [
    "# A-->B-->C\n",
    "# C-->B-->A\n",
    "losses = np.zeros((2, num_training, num_transfers, num_episodes))\n",
    "\n",
    "for k in tnrange(num_training):\n",
    "    \n",
    "    #Marginal Probability\n",
    "    pi_A_1 = np.random.dirichlet(np.ones(N))\n",
    "    \n",
    "    #Conditional Probability\n",
    "    pi_B_A = np.random.dirichlet(np.ones(N), size=N)\n",
    "    pi_C_B = np.random.dirichlet(np.ones(N), size=N)\n",
    "\n",
    "    for j in tnrange(num_transfers, leave=False):\n",
    "        #model.setGroundTruth(pi_A_1, pi_B_A)\n",
    "        pi_A_2 = np.random.dirichlet(np.ones(N))\n",
    "        \n",
    "        x_val1 = torch.from_numpy(generate_data_categorical_3_variables(num_test, pi_A_2, pi_B_A,  pi_C_B))\n",
    "        \n",
    "        for i in range(num_episodes):\n",
    "            x_transfer1 = torch.from_numpy(generate_data_categorical_3_variables(batch_size, pi_A_2, pi_B_A, pi_C_B))\n",
    "            #print(x_transfer1)\n",
    "            model.zero_grad()\n",
    "            \n",
    "            loss_A_B_C = -torch.mean(model.model_A_B_C(x_transfer1))\n",
    "            loss_C_B_A = -torch.mean(model.model_C_B_A(x_transfer1))\n",
    "            \n",
    "            loss1 = loss_A_B_C + loss_C_B_A\n",
    "            \n",
    "            with torch.no_grad():\n",
    "                val_loss_A_B_C = -torch.mean(model.model_A_B_C(x_val1))\n",
    "                val_loss_C_B_A = -torch.mean(model.model_C_B_A(x_val1))\n",
    "\n",
    "            losses[:, k, j, i] = [val_loss_A_B_C.item(), val_loss_C_B_A.item()]\n",
    "\n",
    "            loss1.backward()\n",
    "            optimizer.step()"
   ]
  },
  {
   "cell_type": "code",
   "execution_count": 17,
   "metadata": {},
   "outputs": [
    {
     "name": "stderr",
     "output_type": "stream",
     "text": [
      "<ipython-input-17-a3ec6e5932e3>:5: TqdmDeprecationWarning: Please use `tqdm.notebook.trange` instead of `tqdm.tnrange`\n",
      "  for k in tnrange(num_training):\n"
     ]
    },
    {
     "data": {
      "application/vnd.jupyter.widget-view+json": {
       "model_id": "ba66c318a493438f9b48551bfa6f2210",
       "version_major": 2,
       "version_minor": 0
      },
      "text/plain": [
       "HBox(children=(HTML(value=''), FloatProgress(value=0.0, max=10.0), HTML(value='')))"
      ]
     },
     "metadata": {},
     "output_type": "display_data"
    },
    {
     "name": "stderr",
     "output_type": "stream",
     "text": [
      "<ipython-input-17-a3ec6e5932e3>:14: TqdmDeprecationWarning: Please use `tqdm.notebook.trange` instead of `tqdm.tnrange`\n",
      "  for j in tnrange(num_transfers, leave=False):\n"
     ]
    },
    {
     "data": {
      "application/vnd.jupyter.widget-view+json": {
       "model_id": "",
       "version_major": 2,
       "version_minor": 0
      },
      "text/plain": [
       "HBox(children=(HTML(value=''), FloatProgress(value=0.0, max=10.0), HTML(value='')))"
      ]
     },
     "metadata": {},
     "output_type": "display_data"
    },
    {
     "data": {
      "application/vnd.jupyter.widget-view+json": {
       "model_id": "",
       "version_major": 2,
       "version_minor": 0
      },
      "text/plain": [
       "HBox(children=(HTML(value=''), FloatProgress(value=0.0, max=10.0), HTML(value='')))"
      ]
     },
     "metadata": {},
     "output_type": "display_data"
    },
    {
     "data": {
      "application/vnd.jupyter.widget-view+json": {
       "model_id": "",
       "version_major": 2,
       "version_minor": 0
      },
      "text/plain": [
       "HBox(children=(HTML(value=''), FloatProgress(value=0.0, max=10.0), HTML(value='')))"
      ]
     },
     "metadata": {},
     "output_type": "display_data"
    },
    {
     "data": {
      "application/vnd.jupyter.widget-view+json": {
       "model_id": "",
       "version_major": 2,
       "version_minor": 0
      },
      "text/plain": [
       "HBox(children=(HTML(value=''), FloatProgress(value=0.0, max=10.0), HTML(value='')))"
      ]
     },
     "metadata": {},
     "output_type": "display_data"
    },
    {
     "data": {
      "application/vnd.jupyter.widget-view+json": {
       "model_id": "",
       "version_major": 2,
       "version_minor": 0
      },
      "text/plain": [
       "HBox(children=(HTML(value=''), FloatProgress(value=0.0, max=10.0), HTML(value='')))"
      ]
     },
     "metadata": {},
     "output_type": "display_data"
    },
    {
     "data": {
      "application/vnd.jupyter.widget-view+json": {
       "model_id": "",
       "version_major": 2,
       "version_minor": 0
      },
      "text/plain": [
       "HBox(children=(HTML(value=''), FloatProgress(value=0.0, max=10.0), HTML(value='')))"
      ]
     },
     "metadata": {},
     "output_type": "display_data"
    },
    {
     "data": {
      "application/vnd.jupyter.widget-view+json": {
       "model_id": "",
       "version_major": 2,
       "version_minor": 0
      },
      "text/plain": [
       "HBox(children=(HTML(value=''), FloatProgress(value=0.0, max=10.0), HTML(value='')))"
      ]
     },
     "metadata": {},
     "output_type": "display_data"
    },
    {
     "data": {
      "application/vnd.jupyter.widget-view+json": {
       "model_id": "",
       "version_major": 2,
       "version_minor": 0
      },
      "text/plain": [
       "HBox(children=(HTML(value=''), FloatProgress(value=0.0, max=10.0), HTML(value='')))"
      ]
     },
     "metadata": {},
     "output_type": "display_data"
    },
    {
     "data": {
      "application/vnd.jupyter.widget-view+json": {
       "model_id": "",
       "version_major": 2,
       "version_minor": 0
      },
      "text/plain": [
       "HBox(children=(HTML(value=''), FloatProgress(value=0.0, max=10.0), HTML(value='')))"
      ]
     },
     "metadata": {},
     "output_type": "display_data"
    },
    {
     "data": {
      "application/vnd.jupyter.widget-view+json": {
       "model_id": "",
       "version_major": 2,
       "version_minor": 0
      },
      "text/plain": [
       "HBox(children=(HTML(value=''), FloatProgress(value=0.0, max=10.0), HTML(value='')))"
      ]
     },
     "metadata": {},
     "output_type": "display_data"
    },
    {
     "name": "stdout",
     "output_type": "stream",
     "text": [
      "\n"
     ]
    }
   ],
   "source": [
    "# B-->A-->C\n",
    "# C-->A-->B\n",
    "losses1 = np.zeros((2, num_training, num_transfers, num_episodes))\n",
    "\n",
    "for k in tnrange(num_training):\n",
    "    \n",
    "    #Marginal Probability\n",
    "    pi_B_1 = np.random.dirichlet(np.ones(N))\n",
    "    \n",
    "    #Conditional Probability\n",
    "    pi_A_B = np.random.dirichlet(np.ones(N), size=N)\n",
    "    pi_C_A = np.random.dirichlet(np.ones(N), size=N)\n",
    "\n",
    "    for j in tnrange(num_transfers, leave=False):\n",
    "        #model.setGroundTruth(pi_A_1, pi_B_A)\n",
    "        pi_B_2 = np.random.dirichlet(np.ones(N))\n",
    "        \n",
    "        x_val1 = torch.from_numpy(generate_data_categorical_3_variables(num_test, pi_B_2, pi_A_B,  pi_C_A))\n",
    "        \n",
    "        for i in range(num_episodes):\n",
    "            x_transfer1 = torch.from_numpy(generate_data_categorical_3_variables(batch_size, pi_B_2, pi_A_B, pi_C_A))\n",
    "            #print(x_transfer1)\n",
    "            model.zero_grad()\n",
    "            \n",
    "            loss_B_A_C = -torch.mean(model.model_A_B_C(x_transfer1))\n",
    "            loss_C_A_B = -torch.mean(model.model_C_B_A(x_transfer1))\n",
    "            \n",
    "            loss1 = loss_B_A_C + loss_C_A_B\n",
    "            \n",
    "            with torch.no_grad():\n",
    "                val_loss_B_A_C = -torch.mean(model.model_A_B_C(x_val1))\n",
    "                val_loss_C_A_B = -torch.mean(model.model_C_B_A(x_val1))\n",
    "\n",
    "            losses1[:, k, j, i] = [val_loss_B_A_C.item(), val_loss_C_A_B.item()]\n",
    "\n",
    "            loss1.backward()\n",
    "            optimizer.step()"
   ]
  },
  {
   "cell_type": "code",
   "execution_count": 20,
   "metadata": {},
   "outputs": [
    {
     "name": "stderr",
     "output_type": "stream",
     "text": [
      "<ipython-input-20-2f8e0ad41a04>:5: TqdmDeprecationWarning: Please use `tqdm.notebook.trange` instead of `tqdm.tnrange`\n",
      "  for k in tnrange(num_training):\n"
     ]
    },
    {
     "data": {
      "application/vnd.jupyter.widget-view+json": {
       "model_id": "cf811ef5fc00481ca816ef8467483c0c",
       "version_major": 2,
       "version_minor": 0
      },
      "text/plain": [
       "HBox(children=(HTML(value=''), FloatProgress(value=0.0, max=10.0), HTML(value='')))"
      ]
     },
     "metadata": {},
     "output_type": "display_data"
    },
    {
     "name": "stderr",
     "output_type": "stream",
     "text": [
      "<ipython-input-20-2f8e0ad41a04>:14: TqdmDeprecationWarning: Please use `tqdm.notebook.trange` instead of `tqdm.tnrange`\n",
      "  for j in tnrange(num_transfers, leave=False):\n"
     ]
    },
    {
     "data": {
      "application/vnd.jupyter.widget-view+json": {
       "model_id": "",
       "version_major": 2,
       "version_minor": 0
      },
      "text/plain": [
       "HBox(children=(HTML(value=''), FloatProgress(value=0.0, max=10.0), HTML(value='')))"
      ]
     },
     "metadata": {},
     "output_type": "display_data"
    },
    {
     "data": {
      "application/vnd.jupyter.widget-view+json": {
       "model_id": "",
       "version_major": 2,
       "version_minor": 0
      },
      "text/plain": [
       "HBox(children=(HTML(value=''), FloatProgress(value=0.0, max=10.0), HTML(value='')))"
      ]
     },
     "metadata": {},
     "output_type": "display_data"
    },
    {
     "data": {
      "application/vnd.jupyter.widget-view+json": {
       "model_id": "",
       "version_major": 2,
       "version_minor": 0
      },
      "text/plain": [
       "HBox(children=(HTML(value=''), FloatProgress(value=0.0, max=10.0), HTML(value='')))"
      ]
     },
     "metadata": {},
     "output_type": "display_data"
    },
    {
     "data": {
      "application/vnd.jupyter.widget-view+json": {
       "model_id": "",
       "version_major": 2,
       "version_minor": 0
      },
      "text/plain": [
       "HBox(children=(HTML(value=''), FloatProgress(value=0.0, max=10.0), HTML(value='')))"
      ]
     },
     "metadata": {},
     "output_type": "display_data"
    },
    {
     "data": {
      "application/vnd.jupyter.widget-view+json": {
       "model_id": "",
       "version_major": 2,
       "version_minor": 0
      },
      "text/plain": [
       "HBox(children=(HTML(value=''), FloatProgress(value=0.0, max=10.0), HTML(value='')))"
      ]
     },
     "metadata": {},
     "output_type": "display_data"
    },
    {
     "data": {
      "application/vnd.jupyter.widget-view+json": {
       "model_id": "",
       "version_major": 2,
       "version_minor": 0
      },
      "text/plain": [
       "HBox(children=(HTML(value=''), FloatProgress(value=0.0, max=10.0), HTML(value='')))"
      ]
     },
     "metadata": {},
     "output_type": "display_data"
    },
    {
     "data": {
      "application/vnd.jupyter.widget-view+json": {
       "model_id": "",
       "version_major": 2,
       "version_minor": 0
      },
      "text/plain": [
       "HBox(children=(HTML(value=''), FloatProgress(value=0.0, max=10.0), HTML(value='')))"
      ]
     },
     "metadata": {},
     "output_type": "display_data"
    },
    {
     "data": {
      "application/vnd.jupyter.widget-view+json": {
       "model_id": "",
       "version_major": 2,
       "version_minor": 0
      },
      "text/plain": [
       "HBox(children=(HTML(value=''), FloatProgress(value=0.0, max=10.0), HTML(value='')))"
      ]
     },
     "metadata": {},
     "output_type": "display_data"
    },
    {
     "data": {
      "application/vnd.jupyter.widget-view+json": {
       "model_id": "",
       "version_major": 2,
       "version_minor": 0
      },
      "text/plain": [
       "HBox(children=(HTML(value=''), FloatProgress(value=0.0, max=10.0), HTML(value='')))"
      ]
     },
     "metadata": {},
     "output_type": "display_data"
    },
    {
     "data": {
      "application/vnd.jupyter.widget-view+json": {
       "model_id": "",
       "version_major": 2,
       "version_minor": 0
      },
      "text/plain": [
       "HBox(children=(HTML(value=''), FloatProgress(value=0.0, max=10.0), HTML(value='')))"
      ]
     },
     "metadata": {},
     "output_type": "display_data"
    },
    {
     "name": "stdout",
     "output_type": "stream",
     "text": [
      "\n"
     ]
    }
   ],
   "source": [
    "# A-->C-->B\n",
    "# B-->C-->A\n",
    "losses2 = np.zeros((2, num_training, num_transfers, num_episodes))\n",
    "\n",
    "for k in tnrange(num_training):\n",
    "    \n",
    "    #Marginal Probability\n",
    "    pi_A_1 = np.random.dirichlet(np.ones(N))\n",
    "    \n",
    "    #Conditional Probability\n",
    "    pi_C_A = np.random.dirichlet(np.ones(N), size=N)\n",
    "    pi_B_C = np.random.dirichlet(np.ones(N), size=N)\n",
    "\n",
    "    for j in tnrange(num_transfers, leave=False):\n",
    "        #model.setGroundTruth(pi_A_1, pi_B_A)\n",
    "        pi_A_2 = np.random.dirichlet(np.ones(N))\n",
    "        \n",
    "        x_val1 = torch.from_numpy(generate_data_categorical_3_variables(num_test, pi_A_2, pi_C_A,  pi_B_C))\n",
    "        \n",
    "        for i in range(num_episodes):\n",
    "            x_transfer1 = torch.from_numpy(generate_data_categorical_3_variables(batch_size, pi_A_2, pi_C_A, pi_B_C))\n",
    "            #print(x_transfer1)\n",
    "            model.zero_grad()\n",
    "            \n",
    "            \n",
    "            loss_A_C_B = -torch.mean(model.model_A_B_C(x_transfer1))\n",
    "            loss_B_C_A = -torch.mean(model.model_C_B_A(x_transfer1))\n",
    "            \n",
    "            loss1 = loss_A_C_B + loss_B_C_A\n",
    "            \n",
    "            with torch.no_grad():\n",
    "                val_loss_A_C_B = -torch.mean(model.model_A_B_C(x_val1))\n",
    "                val_loss_B_C_A = -torch.mean(model.model_C_B_A(x_val1))\n",
    "\n",
    "            losses2[:, k, j, i] = [val_loss_A_C_B.item(), val_loss_B_C_A.item()]\n",
    "\n",
    "            loss1.backward()\n",
    "            optimizer.step()"
   ]
  },
  {
   "cell_type": "code",
   "execution_count": 21,
   "metadata": {},
   "outputs": [
    {
     "data": {
      "image/png": "[encoded data removed]",
      "text/plain": [
       "<Figure size 648x360 with 1 Axes>"
      ]
     },
     "metadata": {
      "needs_background": "light"
     },
     "output_type": "display_data"
    }
   ],
   "source": [
    "flat_losses = -losses.reshape((2, -1, num_episodes))\n",
    "losses_25, losses_50, losses_75 = np.percentile(flat_losses, (25, 50, 75), axis=1)\n",
    "\n",
    "flat_losses1 = -losses1.reshape((2, -1, num_episodes))\n",
    "losses1_25, losses1_50, losses1_75 = np.percentile(flat_losses1, (25, 50, 75), axis=1)\n",
    "\n",
    "flat_losses2 = -losses2.reshape((2, -1, num_episodes))\n",
    "losses2_25, losses2_50, losses2_75 = np.percentile(flat_losses2, (25, 50, 75), axis=1)\n",
    "\n",
    "plt.figure(figsize=(9, 5))\n",
    "ax = plt.subplot(1, 1, 1)\n",
    "\n",
    "ax.plot(losses_50[0], color='C0', label=r'$A \\rightarrow B \\rightarrow C$', lw=2)\n",
    "ax.fill_between(np.arange(num_episodes), losses_25[0], losses_75[0], color='C0', alpha=0.2)\n",
    "\n",
    "ax.plot(losses_50[1], color='C3', label=r'$C \\rightarrow B \\rightarrow A$', lw=2)\n",
    "ax.fill_between(np.arange(num_episodes), losses_25[1], losses_75[1], color='C3', alpha=0.2)\n",
    "\n",
    "ax.plot(losses1_50[0], color='C5', label=r'$B \\rightarrow A \\rightarrow C$', lw=2)\n",
    "ax.fill_between(np.arange(num_episodes), losses1_25[0], losses1_75[0], color='C5', alpha=0.2)\n",
    "\n",
    "ax.plot(losses1_50[1], color='C7', label=r'$C \\rightarrow A \\rightarrow B$', lw=2)\n",
    "ax.fill_between(np.arange(num_episodes), losses1_25[1], losses1_75[1], color='C7', alpha=0.2)\n",
    "\n",
    "ax.plot(losses2_50[0], color='C9', label=r'$A \\rightarrow C \\rightarrow B$', lw=2)\n",
    "ax.fill_between(np.arange(num_episodes), losses1_25[0], losses1_75[0], color='C9', alpha=0.2)\n",
    "\n",
    "ax.plot(losses2_50[1], color='C11', label=r'$B \\rightarrow C \\rightarrow A$', lw=2)\n",
    "ax.fill_between(np.arange(num_episodes), losses1_25[1], losses1_75[1], color='C11', alpha=0.2)\n",
    "\n",
    "ax.set_xlim([0, flat_losses.shape[1] - 1])\n",
    "ax.tick_params(axis='both', which='major', labelsize=13)\n",
    "ax.legend(loc=4, prop={'size': 13})\n",
    "ax.set_xlabel('Number of examples', fontsize=14)\n",
    "ax.set_ylabel(r'$\\log P(D\\mid \\cdot \\rightarrow \\cdot)$', fontsize=14)\n",
    "\n",
    "plt.show()"
   ]
  },
  {
   "cell_type": "code",
   "execution_count": 7,
   "metadata": {},
   "outputs": [
    {
     "name": "stderr",
     "output_type": "stream",
     "text": [
      "<ipython-input-7-6257bb1397c4>:5: TqdmDeprecationWarning: Please use `tqdm.notebook.trange` instead of `tqdm.tnrange`\n",
      "  for k in tnrange(num_training):\n"
     ]
    },
    {
     "data": {
      "application/vnd.jupyter.widget-view+json": {
       "model_id": "901b404e7d2a4a2993354d703b5d8ad3",
       "version_major": 2,
       "version_minor": 0
      },
      "text/plain": [
       "HBox(children=(HTML(value=''), FloatProgress(value=0.0, max=10.0), HTML(value='')))"
      ]
     },
     "metadata": {},
     "output_type": "display_data"
    },
    {
     "name": "stderr",
     "output_type": "stream",
     "text": [
      "<ipython-input-7-6257bb1397c4>:18: TqdmDeprecationWarning: Please use `tqdm.notebook.trange` instead of `tqdm.tnrange`\n",
      "  for j in tnrange(num_transfers, leave=False):\n"
     ]
    },
    {
     "data": {
      "application/vnd.jupyter.widget-view+json": {
       "model_id": "",
       "version_major": 2,
       "version_minor": 0
      },
      "text/plain": [
       "HBox(children=(HTML(value=''), FloatProgress(value=0.0, max=10.0), HTML(value='')))"
      ]
     },
     "metadata": {},
     "output_type": "display_data"
    },
    {
     "data": {
      "application/vnd.jupyter.widget-view+json": {
       "model_id": "",
       "version_major": 2,
       "version_minor": 0
      },
      "text/plain": [
       "HBox(children=(HTML(value=''), FloatProgress(value=0.0, max=10.0), HTML(value='')))"
      ]
     },
     "metadata": {},
     "output_type": "display_data"
    },
    {
     "data": {
      "application/vnd.jupyter.widget-view+json": {
       "model_id": "",
       "version_major": 2,
       "version_minor": 0
      },
      "text/plain": [
       "HBox(children=(HTML(value=''), FloatProgress(value=0.0, max=10.0), HTML(value='')))"
      ]
     },
     "metadata": {},
     "output_type": "display_data"
    },
    {
     "data": {
      "application/vnd.jupyter.widget-view+json": {
       "model_id": "",
       "version_major": 2,
       "version_minor": 0
      },
      "text/plain": [
       "HBox(children=(HTML(value=''), FloatProgress(value=0.0, max=10.0), HTML(value='')))"
      ]
     },
     "metadata": {},
     "output_type": "display_data"
    },
    {
     "data": {
      "application/vnd.jupyter.widget-view+json": {
       "model_id": "",
       "version_major": 2,
       "version_minor": 0
      },
      "text/plain": [
       "HBox(children=(HTML(value=''), FloatProgress(value=0.0, max=10.0), HTML(value='')))"
      ]
     },
     "metadata": {},
     "output_type": "display_data"
    },
    {
     "data": {
      "application/vnd.jupyter.widget-view+json": {
       "model_id": "",
       "version_major": 2,
       "version_minor": 0
      },
      "text/plain": [
       "HBox(children=(HTML(value=''), FloatProgress(value=0.0, max=10.0), HTML(value='')))"
      ]
     },
     "metadata": {},
     "output_type": "display_data"
    },
    {
     "data": {
      "application/vnd.jupyter.widget-view+json": {
       "model_id": "",
       "version_major": 2,
       "version_minor": 0
      },
      "text/plain": [
       "HBox(children=(HTML(value=''), FloatProgress(value=0.0, max=10.0), HTML(value='')))"
      ]
     },
     "metadata": {},
     "output_type": "display_data"
    },
    {
     "data": {
      "application/vnd.jupyter.widget-view+json": {
       "model_id": "",
       "version_major": 2,
       "version_minor": 0
      },
      "text/plain": [
       "HBox(children=(HTML(value=''), FloatProgress(value=0.0, max=10.0), HTML(value='')))"
      ]
     },
     "metadata": {},
     "output_type": "display_data"
    },
    {
     "data": {
      "application/vnd.jupyter.widget-view+json": {
       "model_id": "",
       "version_major": 2,
       "version_minor": 0
      },
      "text/plain": [
       "HBox(children=(HTML(value=''), FloatProgress(value=0.0, max=10.0), HTML(value='')))"
      ]
     },
     "metadata": {},
     "output_type": "display_data"
    },
    {
     "data": {
      "application/vnd.jupyter.widget-view+json": {
       "model_id": "",
       "version_major": 2,
       "version_minor": 0
      },
      "text/plain": [
       "HBox(children=(HTML(value=''), FloatProgress(value=0.0, max=10.0), HTML(value='')))"
      ]
     },
     "metadata": {},
     "output_type": "display_data"
    },
    {
     "name": "stdout",
     "output_type": "stream",
     "text": [
      "\n"
     ]
    }
   ],
   "source": [
    "losses1 = np.zeros((2, num_training, num_transfers, num_episodes))\n",
    "losses2 = np.zeros((2, num_training, num_transfers, num_episodes))\n",
    "losses3 = np.zeros((2, num_training, num_transfers, num_episodes))\n",
    "\n",
    "for k in tnrange(num_training):\n",
    "    \n",
    "    #Marginal Probability\n",
    "    pi_A_1 = np.random.dirichlet(np.ones(N))\n",
    "    pi_B_1 = np.random.dirichlet(np.ones(N))\n",
    "    \n",
    "    #Conditional Probability\n",
    "    pi_B_A = np.random.dirichlet(np.ones(N), size=N)\n",
    "    pi_C_B = np.random.dirichlet(np.ones(N), size=N)\n",
    "    pi_A_B = np.random.dirichlet(np.ones(N), size=N)\n",
    "    pi_C_A = np.random.dirichlet(np.ones(N), size=N)\n",
    "    pi_B_C = np.random.dirichlet(np.ones(N), size=N)\n",
    "\n",
    "    for j in tnrange(num_transfers, leave=False):\n",
    "        \n",
    "        pi_A_2 = np.random.dirichlet(np.ones(N))\n",
    "        pi_A_B_2 = np.random.dirichlet(np.ones(N),size =N)\n",
    "        \n",
    "        x_val1 = torch.from_numpy(generate_data_categorical_3_variables(num_test, pi_A_2, pi_B_A,  pi_C_B))\n",
    "        x_val2 = torch.from_numpy(generate_data_categorical_3_variables(num_test, pi_B_1, pi_A_B_2,  pi_C_A))\n",
    "        x_val3 = torch.from_numpy(generate_data_categorical_3_variables(num_test, pi_A_2, pi_C_A,  pi_B_C))\n",
    "        \n",
    "        for i in range(num_episodes):\n",
    "            \n",
    "            x_transfer1 = torch.from_numpy(generate_data_categorical_3_variables(batch_size, pi_A_2, pi_B_A, pi_C_B))\n",
    "            x_transfer2 = torch.from_numpy(generate_data_categorical_3_variables(batch_size, pi_B_1, pi_A_B_2, pi_C_A))\n",
    "            x_transfer3 = torch.from_numpy(generate_data_categorical_3_variables(batch_size, pi_A_2, pi_C_A, pi_B_C))\n",
    "            \n",
    "            model.zero_grad()\n",
    "            \n",
    "            #Model A-->B-->C\n",
    "            \n",
    "            loss_A_B_C = -torch.mean(model.model_A_B_C(x_transfer1))\n",
    "            loss_C_B_A = -torch.mean(model.model_C_B_A(x_transfer1))\n",
    "            \n",
    "            #Model B-->A-->C\n",
    "                        \n",
    "            loss_B_A_C = -torch.mean(model.model_A_B_C(x_transfer2))\n",
    "            loss_C_A_B = -torch.mean(model.model_C_B_A(x_transfer2))\n",
    "            \n",
    "            #Model A-->C-->B\n",
    "            \n",
    "            loss_A_C_B = -torch.mean(model.model_A_B_C(x_transfer3))\n",
    "            loss_B_C_A = -torch.mean(model.model_C_B_A(x_transfer3))\n",
    "            \n",
    "            loss1 = loss_A_B_C + loss_C_B_A + loss_B_A_C + loss_C_A_B + loss_A_C_B + loss_B_C_A\n",
    "            \n",
    "            with torch.no_grad():\n",
    "                \n",
    "                val_loss_A_B_C = -torch.mean(model.model_A_B_C(x_val1))\n",
    "                val_loss_C_B_A = -torch.mean(model.model_C_B_A(x_val1))\n",
    "                \n",
    "                val_loss_B_A_C = -torch.mean(model.model_A_B_C(x_val2))\n",
    "                val_loss_C_A_B = -torch.mean(model.model_C_B_A(x_val2))\n",
    "                \n",
    "                val_loss_A_C_B = -torch.mean(model.model_A_B_C(x_val3))\n",
    "                val_loss_B_C_A = -torch.mean(model.model_C_B_A(x_val3))\n",
    "\n",
    "            losses1[:, k, j, i] = [val_loss_A_B_C.item(), val_loss_C_B_A.item()]\n",
    "            losses2[:, k, j, i] = [val_loss_B_A_C.item(), val_loss_C_A_B.item()]\n",
    "            losses3[:, k, j, i] = [val_loss_A_C_B.item(), val_loss_B_C_A.item()]\n",
    "\n",
    "            loss1.backward()\n",
    "            #loss2.backward()\n",
    "            #loss3.backward()\n",
    "            optimizer.step()"
   ]
  },
  {
   "cell_type": "code",
   "execution_count": 8,
   "metadata": {},
   "outputs": [
    {
     "data": {
      "image/png": "[encoded data removed]",
      "text/plain": [
       "<Figure size 648x360 with 1 Axes>"
      ]
     },
     "metadata": {
      "needs_background": "light"
     },
     "output_type": "display_data"
    }
   ],
   "source": [
    "flat_losses1 = -losses1.reshape((2, -1, num_episodes))\n",
    "losses1_25, losses1_50, losses1_75 = np.percentile(flat_losses1, (25, 50, 75), axis=1)\n",
    "\n",
    "flat_losses2 = -losses2.reshape((2, -1, num_episodes))\n",
    "losses2_25, losses2_50, losses2_75 = np.percentile(flat_losses2, (25, 50, 75), axis=1)\n",
    "\n",
    "flat_losses3 = -losses3.reshape((2, -1, num_episodes))\n",
    "losses3_25, losses3_50, losses3_75 = np.percentile(flat_losses3, (25, 50, 75), axis=1)\n",
    "\n",
    "plt.figure(figsize=(9, 5))\n",
    "ax = plt.subplot(1, 1, 1)\n",
    "\n",
    "ax.plot(losses1_50[0], color='C0', label=r'$A \\rightarrow B \\rightarrow C$', lw=2)\n",
    "ax.fill_between(np.arange(num_episodes), losses1_25[0], losses1_75[0], color='C0', alpha=0.2)\n",
    "\n",
    "ax.plot(losses1_50[1], color='C3', label=r'$C \\rightarrow B \\rightarrow A$', lw=2)\n",
    "ax.fill_between(np.arange(num_episodes), losses1_25[1], losses1_75[1], color='C3', alpha=0.2)\n",
    "\n",
    "ax.plot(losses2_50[0], color='C5', label=r'$B \\rightarrow A \\rightarrow C$', lw=2)\n",
    "ax.fill_between(np.arange(num_episodes), losses2_25[0], losses2_75[0], color='C5', alpha=0.2)\n",
    "\n",
    "ax.plot(losses2_50[1], color='C7', label=r'$C \\rightarrow A \\rightarrow B$', lw=2)\n",
    "ax.fill_between(np.arange(num_episodes), losses2_25[1], losses2_75[1], color='C7', alpha=0.2)\n",
    "\n",
    "ax.plot(losses3_50[0], color='C9', label=r'$A \\rightarrow C \\rightarrow B$', lw=2)\n",
    "ax.fill_between(np.arange(num_episodes), losses3_25[0], losses3_75[0], color='C9', alpha=0.2)\n",
    "\n",
    "ax.plot(losses3_50[1], color='C11', label=r'$B \\rightarrow C \\rightarrow A$', lw=2)\n",
    "ax.fill_between(np.arange(num_episodes), losses3_25[1], losses3_75[1], color='C11', alpha=0.2)\n",
    "\n",
    "ax.set_xlim([0, flat_losses1.shape[1] - 1])\n",
    "ax.tick_params(axis='both', which='major', labelsize=13)\n",
    "ax.legend(loc=4, prop={'size': 13})\n",
    "ax.set_xlabel('Number of examples', fontsize=14)\n",
    "ax.set_ylabel(r'$\\log P(D\\mid \\cdot \\rightarrow \\cdot)$', fontsize=14)\n",
    "\n",
    "plt.show()"
   ]
  },
  {
   "cell_type": "code",
   "execution_count": null,
   "metadata": {},
   "outputs": [],
   "source": []
  }
 ],
 "metadata": {
  "kernelspec": {
   "display_name": "Python 3",
   "language": "python",
   "name": "python3"
  },
  "language_info": {
   "codemirror_mode": {
    "name": "ipython",
    "version": 3
   },
   "file_extension": ".py",
   "mimetype": "text/x-python",
   "name": "python",
   "nbconvert_exporter": "python",
   "pygments_lexer": "ipython3",
   "version": "3.8.5"
  }
 },
 "nbformat": 4,
 "nbformat_minor": 4
}
