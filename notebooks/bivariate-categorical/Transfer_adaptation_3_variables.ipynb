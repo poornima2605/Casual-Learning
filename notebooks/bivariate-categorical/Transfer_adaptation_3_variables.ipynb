{
 "cells": [
  {
   "cell_type": "code",
   "execution_count": 31,
   "metadata": {},
   "outputs": [],
   "source": [
    "import sys\n",
    "sys.path.insert(0, '../..')"
   ]
  },
  {
   "cell_type": "code",
   "execution_count": 32,
   "metadata": {},
   "outputs": [],
   "source": [
    "%matplotlib inline\n",
    "import numpy as np\n",
    "import torch\n",
    "import matplotlib.pyplot as plt\n",
    "from tqdm import tnrange, tqdm_notebook\n",
    "\n",
    "from causal_meta.utils.data_utils import generate_data_categorical\n",
    "from causal_meta.bivariate.categorical1 import StructuralModel"
   ]
  },
  {
   "cell_type": "code",
   "execution_count": 33,
   "metadata": {},
   "outputs": [],
   "source": [
    "N = 10\n",
    "model = StructuralModel(N)#, dtype=torch.float64)"
   ]
  },
  {
   "cell_type": "code",
   "execution_count": 34,
   "metadata": {},
   "outputs": [],
   "source": [
    "num_episodes = 500\n",
    "batch_size = 100 # 1\n",
    "num_test = 10000\n",
    "num_training = 10 # 100\n",
    "num_transfers = 10 # 100"
   ]
  },
  {
   "cell_type": "code",
   "execution_count": 35,
   "metadata": {},
   "outputs": [],
   "source": [
    "optimizer = torch.optim.SGD(model.modules_parameters(), lr=1.)"
   ]
  },
  {
   "cell_type": "code",
   "execution_count": 36,
   "metadata": {},
   "outputs": [
    {
     "name": "stderr",
     "output_type": "stream",
     "text": [
      "<ipython-input-36-8f89b7afc730>:3: TqdmDeprecationWarning: Please use `tqdm.notebook.trange` instead of `tqdm.tnrange`\n",
      "  for k in tnrange(num_training):\n"
     ]
    },
    {
     "data": {
      "application/vnd.jupyter.widget-view+json": {
       "model_id": "bd4c31f32fd6479f8bed23a68dc0f3d7",
       "version_major": 2,
       "version_minor": 0
      },
      "text/plain": [
       "HBox(children=(HTML(value=''), FloatProgress(value=0.0, max=10.0), HTML(value='')))"
      ]
     },
     "metadata": {},
     "output_type": "display_data"
    },
    {
     "name": "stderr",
     "output_type": "stream",
     "text": [
      "<ipython-input-36-8f89b7afc730>:15: TqdmDeprecationWarning: Please use `tqdm.notebook.trange` instead of `tqdm.tnrange`\n",
      "  for j in tnrange(num_transfers, leave=False):\n"
     ]
    },
    {
     "data": {
      "application/vnd.jupyter.widget-view+json": {
       "model_id": "c7aa91dcb1a1495fab8897add25e9ed7",
       "version_major": 2,
       "version_minor": 0
      },
      "text/plain": [
       "HBox(children=(HTML(value=''), FloatProgress(value=0.0, max=10.0), HTML(value='')))"
      ]
     },
     "metadata": {},
     "output_type": "display_data"
    },
    {
     "name": "stdout",
     "output_type": "stream",
     "text": [
      "\n"
     ]
    },
    {
     "ename": "AttributeError",
     "evalue": "'StructuralModel' object has no attribute 'model_A_B_C'",
     "output_type": "error",
     "traceback": [
      "\u001b[0;31m---------------------------------------------------------------------------\u001b[0m",
      "\u001b[0;31mAttributeError\u001b[0m                            Traceback (most recent call last)",
      "\u001b[0;32m<ipython-input-36-8f89b7afc730>\u001b[0m in \u001b[0;36m<module>\u001b[0;34m\u001b[0m\n\u001b[1;32m     30\u001b[0m             \u001b[0mmodel\u001b[0m\u001b[0;34m.\u001b[0m\u001b[0mzero_grad\u001b[0m\u001b[0;34m(\u001b[0m\u001b[0;34m)\u001b[0m\u001b[0;34m\u001b[0m\u001b[0;34m\u001b[0m\u001b[0m\n\u001b[1;32m     31\u001b[0m \u001b[0;34m\u001b[0m\u001b[0m\n\u001b[0;32m---> 32\u001b[0;31m             \u001b[0mloss_A_B\u001b[0m \u001b[0;34m=\u001b[0m \u001b[0;34m-\u001b[0m\u001b[0mtorch\u001b[0m\u001b[0;34m.\u001b[0m\u001b[0mmean\u001b[0m\u001b[0;34m(\u001b[0m\u001b[0mmodel\u001b[0m\u001b[0;34m.\u001b[0m\u001b[0mmodel_A_B_C\u001b[0m\u001b[0;34m(\u001b[0m\u001b[0mx_transfer1\u001b[0m\u001b[0;34m)\u001b[0m\u001b[0;34m)\u001b[0m\u001b[0;34m\u001b[0m\u001b[0;34m\u001b[0m\u001b[0m\n\u001b[0m\u001b[1;32m     33\u001b[0m             \u001b[0mloss_B_A\u001b[0m \u001b[0;34m=\u001b[0m \u001b[0;34m-\u001b[0m\u001b[0mtorch\u001b[0m\u001b[0;34m.\u001b[0m\u001b[0mmean\u001b[0m\u001b[0;34m(\u001b[0m\u001b[0mmodel\u001b[0m\u001b[0;34m.\u001b[0m\u001b[0mmodel_C_B_A\u001b[0m\u001b[0;34m(\u001b[0m\u001b[0mx_transfer1\u001b[0m\u001b[0;34m)\u001b[0m\u001b[0;34m)\u001b[0m\u001b[0;34m\u001b[0m\u001b[0;34m\u001b[0m\u001b[0m\n\u001b[1;32m     34\u001b[0m \u001b[0;34m\u001b[0m\u001b[0m\n",
      "\u001b[0;32m~/anaconda3/lib/python3.8/site-packages/torch/nn/modules/module.py\u001b[0m in \u001b[0;36m__getattr__\u001b[0;34m(self, name)\u001b[0m\n\u001b[1;32m   1128\u001b[0m             \u001b[0;32mif\u001b[0m \u001b[0mname\u001b[0m \u001b[0;32min\u001b[0m \u001b[0mmodules\u001b[0m\u001b[0;34m:\u001b[0m\u001b[0;34m\u001b[0m\u001b[0;34m\u001b[0m\u001b[0m\n\u001b[1;32m   1129\u001b[0m                 \u001b[0;32mreturn\u001b[0m \u001b[0mmodules\u001b[0m\u001b[0;34m[\u001b[0m\u001b[0mname\u001b[0m\u001b[0;34m]\u001b[0m\u001b[0;34m\u001b[0m\u001b[0;34m\u001b[0m\u001b[0m\n\u001b[0;32m-> 1130\u001b[0;31m         raise AttributeError(\"'{}' object has no attribute '{}'\".format(\n\u001b[0m\u001b[1;32m   1131\u001b[0m             type(self).__name__, name))\n\u001b[1;32m   1132\u001b[0m \u001b[0;34m\u001b[0m\u001b[0m\n",
      "\u001b[0;31mAttributeError\u001b[0m: 'StructuralModel' object has no attribute 'model_A_B_C'"
     ]
    }
   ],
   "source": [
    "losses = np.zeros((2, num_training, num_transfers, num_episodes))\n",
    "\n",
    "for k in tnrange(num_training):\n",
    "    \n",
    "    #Marginal Probability\n",
    "    pi_A_1 = np.random.dirichlet(np.ones(N))\n",
    "    pi_B_1 = np.random.dirichlet(np.ones(N))\n",
    "    pi_C_1 = np.random.dirichlet(np.ones(N))\n",
    "    \n",
    "    #Conditional Probability\n",
    "    pi_B_A = np.random.dirichlet(np.ones(N), size=N)\n",
    "    pi_B_A = np.random.dirichlet(np.ones(N), size=N)\n",
    "    pi_B_A = np.random.dirichlet(np.ones(N), size=N)\n",
    "    \n",
    "    for j in tnrange(num_transfers, leave=False):\n",
    "        #model.setGroundTruth(pi_A_1, pi_B_A)\n",
    "        pi_A_2 = np.random.dirichlet(np.ones(N))\n",
    "        pi_B_2 = np.random.dirichlet(np.ones(N))\n",
    "        #pi_C_2 = np.random.dirichlet(np.ones(N))\n",
    "        \n",
    "        x_val1 = torch.from_numpy(generate_data_categorical(num_test, pi_A_2, pi_B_A))\n",
    "        x_val2 = torch.from_numpy(generate_data_categorical(num_test, pi_B_2, pi_C_B))\n",
    "        #x_val3 = torch.from_numpy(generate_data_categorical(num_test, pi_C_2, pi_A_C))\n",
    "        \n",
    "        \n",
    "        for i in range(num_episodes):\n",
    "            x_transfer1 = torch.from_numpy(generate_data_categorical(batch_size, pi_A_2, pi_B_A))\n",
    "            x_transfer2 = torch.from_numpy(generate_data_categorical(batch_size, pi_B_2, pi_C_B))\n",
    "            \n",
    "            model.zero_grad()\n",
    "            \n",
    "            loss_A_B = -torch.mean(model.model_A_B_C(x_transfer1))\n",
    "            loss_B_A = -torch.mean(model.model_C_B_A(x_transfer1))\n",
    "            \n",
    "            #loss_B_C = -torch.mean(model.model_B_C(x_transfer2))\n",
    "            #loss_C_B = -torch.mean(model.model_C_B(x_transfer2))\n",
    "            \n",
    "            loss1 = loss_A_B + loss_B_A\n",
    "            #loss2 = loss_B_C + loss_C_B\n",
    "            \n",
    "            with torch.no_grad():\n",
    "                val_loss_A_B_C = -torch.mean(model.model_A_B_C(x_val1))\n",
    "                val_loss_C_B_A = -torch.mean(model.model_C_B_A(x_val1))\n",
    "                \n",
    "                #val_loss_B_C = -torch.mean(model.model_B_C(x_val2))\n",
    "                #val_loss_C_B = -torch.mean(model.model_C_B(x_val2))\n",
    "\n",
    "            losses[:, k, j, i] = [val_loss_A_B_C.item(), val_loss_C_B_A.item()]\n",
    "\n",
    "            loss1.backward()\n",
    "            #loss2.backward()\n",
    "            optimizer.step()"
   ]
  },
  {
   "cell_type": "code",
   "execution_count": null,
   "metadata": {},
   "outputs": [],
   "source": [
    "flat_losses = -losses.reshape((2, -1, num_episodes))\n",
    "losses_25, losses_50, losses_75 = np.percentile(flat_losses, (25, 50, 75), axis=1)\n",
    "\n",
    "plt.figure(figsize=(9, 5))\n",
    "\n",
    "ax = plt.subplot(1, 1, 1)\n",
    "ax.plot(losses_50[0], color='C0', label=r'$A \\rightarrow B$', lw=2)\n",
    "ax.fill_between(np.arange(num_episodes), losses_25[0], losses_75[0], color='C0', alpha=0.2)\n",
    "ax.plot(losses_50[1], color='C3', label=r'$B \\rightarrow A$', lw=2)\n",
    "ax.fill_between(np.arange(num_episodes), losses_25[1], losses_75[1], color='C3', alpha=0.2)\n",
    "ax.set_xlim([0, flat_losses.shape[1] - 1])\n",
    "ax.tick_params(axis='both', which='major', labelsize=13)\n",
    "ax.legend(loc=4, prop={'size': 13})\n",
    "ax.set_xlabel('Number of examples', fontsize=14)\n",
    "ax.set_ylabel(r'$\\log P(D\\mid \\cdot \\rightarrow \\cdot)$', fontsize=14)\n",
    "\n",
    "plt.show()"
   ]
  }
 ],
 "metadata": {
  "kernelspec": {
   "display_name": "Python 3",
   "language": "python",
   "name": "python3"
  },
  "language_info": {
   "codemirror_mode": {
    "name": "ipython",
    "version": 3
   },
   "file_extension": ".py",
   "mimetype": "text/x-python",
   "name": "python",
   "nbconvert_exporter": "python",
   "pygments_lexer": "ipython3",
   "version": "3.8.5"
  }
 },
 "nbformat": 4,
 "nbformat_minor": 4
}
