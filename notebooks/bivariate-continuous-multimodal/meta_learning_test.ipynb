{
 "cells": [
  {
   "cell_type": "code",
   "execution_count": 1,
   "metadata": {},
   "outputs": [],
   "source": [
    "import sys\n",
    "sys.path.insert(0, '../..')"
   ]
  },
  {
   "cell_type": "code",
   "execution_count": 2,
   "metadata": {},
   "outputs": [],
   "source": [
    "%matplotlib inline\n",
    "import torch\n",
    "import numpy as np\n",
    "import matplotlib.pyplot as plt\n",
    "\n",
    "from causal_meta.modules.mdn import mdn_nll\n",
    "from causal_meta.utils.data_utils import RandomSplineSCM\n",
    "from causal_meta.utils.train_utils import train_nll, make_alpha, train_alpha\n",
    "from models import mdn, gmm, auc_transfer_metric\n",
    "from argparse import Namespace"
   ]
  },
  {
   "cell_type": "code",
   "execution_count": 3,
   "metadata": {},
   "outputs": [],
   "source": [
    "def normal(mean, std, N): \n",
    "    return torch.normal(torch.ones(N).mul_(mean), torch.ones(N).mul_(std)).view(-1, 1)"
   ]
  },
  {
   "cell_type": "code",
   "execution_count": 4,
   "metadata": {},
   "outputs": [],
   "source": [
    "opt = Namespace()\n",
    "# Model\n",
    "opt.CAPACITY = 32\n",
    "opt.NUM_COMPONENTS = 10\n",
    "opt.GMM_NUM_COMPONENTS = 10\n",
    "# Training\n",
    "opt.LR = 0.001\n",
    "opt.NUM_ITER = 3000\n",
    "opt.CUDA = False\n",
    "opt.REC_FREQ = 10\n",
    "# Meta\n",
    "opt.ALPHA_LR = 0.1\n",
    "opt.ALPHA_NUM_ITER = 500\n",
    "opt.FINETUNE_LR = 0.001\n",
    "opt.FINETUNE_NUM_ITER = 10\n",
    "opt.PARAM_DISTRY = lambda mean: normal(mean, 2, opt.NUM_SAMPLES)\n",
    "opt.PARAM_SAMPLER = lambda: np.random.uniform(-4, 4)\n",
    "# Sampling \n",
    "opt.NUM_SAMPLES = 1000\n",
    "opt.TRAIN_DISTRY = lambda: normal(0, 2, opt.NUM_SAMPLES)\n",
    "#opt.TRANS_DISTRY = lambda: normal(random.randint(-4, 4), 2, opt.NUM_SAMPLES)\n",
    "opt.TRANS_DISTRY = lambda: 2 * opt.TRAIN_DISTRY * opt.TRAIN_DISTRY"
   ]
  },
  {
   "cell_type": "code",
   "execution_count": 5,
   "metadata": {},
   "outputs": [],
   "source": [
    "scm = RandomSplineSCM(False, True, 8, 10, 3, range_scale=1.)"
   ]
  },
  {
   "cell_type": "code",
   "execution_count": 6,
   "metadata": {},
   "outputs": [
    {
     "data": {
      "application/vnd.jupyter.widget-view+json": {
       "model_id": "",
       "version_major": 2,
       "version_minor": 0
      },
      "text/plain": [
       "  0%|          | 0/3000 [00:00<?, ?it/s]"
      ]
     },
     "metadata": {},
     "output_type": "display_data"
    }
   ],
   "source": [
    "model_x2y = mdn(opt)\n",
    "frames_x2y = train_nll(opt, model_x2y, scm, opt.TRAIN_DISTRY, polarity='X2Y',\n",
    "    loss_fn=mdn_nll, decoder=None, encoder=None)"
   ]
  },
  {
   "cell_type": "code",
   "execution_count": 7,
   "metadata": {},
   "outputs": [
    {
     "data": {
      "application/vnd.jupyter.widget-view+json": {
       "model_id": "",
       "version_major": 2,
       "version_minor": 0
      },
      "text/plain": [
       "  0%|          | 0/3000 [00:00<?, ?it/s]"
      ]
     },
     "metadata": {},
     "output_type": "display_data"
    }
   ],
   "source": [
    "model_y2x = mdn(opt)\n",
    "frames_y2x = train_nll(opt, model_y2x, scm, opt.TRAIN_DISTRY, polarity='Y2X',\n",
    "    loss_fn=mdn_nll, decoder=None, encoder=None)"
   ]
  },
  {
   "cell_type": "code",
   "execution_count": 18,
   "metadata": {},
   "outputs": [
    {
     "data": {
      "application/vnd.jupyter.widget-view+json": {
       "model_id": "",
       "version_major": 2,
       "version_minor": 0
      },
      "text/plain": [
       "  0%|          | 0/500 [00:00<?, ?it/s]"
      ]
     },
     "metadata": {},
     "output_type": "display_data"
    }
   ],
   "source": [
    "alpha = make_alpha(opt)\n",
    "alpha_frames = train_alpha(opt, model_x2y, model_y2x, None, None, alpha, scm, \n",
    "                           opt.PARAM_DISTRY, opt.PARAM_SAMPLER, mdn_nll,\n",
    "                           auc_transfer_metric, mixmode='logsigp')"
   ]
  },
  {
   "cell_type": "code",
   "execution_count": 19,
   "metadata": {},
   "outputs": [
    {
     "data": {
      "image/png": "[encoded data removed]",
      "text/plain": [
       "<Figure size 648x360 with 1 Axes>"
      ]
     },
     "metadata": {
      "needs_background": "light"
     },
     "output_type": "display_data"
    }
   ],
   "source": [
    "alphas = np.asarray([frame.sig_alpha for frame in alpha_frames])\n",
    "\n",
    "fig = plt.figure(figsize=(9, 5))\n",
    "ax = plt.subplot(1, 1, 1)\n",
    "\n",
    "ax.tick_params(axis='both', which='major', labelsize=13)\n",
    "ax.axhline(1, c='lightgray', ls='--')\n",
    "ax.axhline(0, c='lightgray', ls='--')\n",
    "ax.plot(alphas, lw=2, color='k', label='N = {0}'.format(10))\n",
    "\n",
    "ax.set_xlim([0, opt.ALPHA_NUM_ITER - 1])\n",
    "ax.set_xlabel('Number of episodes', fontsize=14)\n",
    "ax.set_ylabel(r'$\\sigma(\\gamma)$', fontsize=14)\n",
    "ax.legend(loc=4, prop={'size': 13})\n",
    "\n",
    "plt.show()"
   ]
  },
  {
   "cell_type": "code",
   "execution_count": null,
   "metadata": {},
   "outputs": [],
   "source": []
  }
 ],
 "metadata": {
  "kernelspec": {
   "display_name": "Python 3 (ipykernel)",
   "language": "python",
   "name": "python3"
  },
  "language_info": {
   "codemirror_mode": {
    "name": "ipython",
    "version": 3
   },
   "file_extension": ".py",
   "mimetype": "text/x-python",
   "name": "python",
   "nbconvert_exporter": "python",
   "pygments_lexer": "ipython3",
   "version": "3.8.5"
  }
 },
 "nbformat": 4,
 "nbformat_minor": 2
}
